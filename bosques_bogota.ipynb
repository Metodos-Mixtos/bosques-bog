{
 "cells": [
  {
   "cell_type": "markdown",
   "id": "5da664e3-bd34-4c82-a500-2d3f9eb75ab4",
   "metadata": {},
   "source": [
    "## Sistema de monitoreo de los bosques de Bogotá "
   ]
  },
  {
   "cell_type": "code",
   "execution_count": 1,
   "id": "0cfa7adf-8024-4048-b64c-187ca70d3b35",
   "metadata": {
    "tags": []
   },
   "outputs": [],
   "source": [
    "import os\n",
    "import sys\n",
    "#import wbdata\n",
    "import datetime\n",
    "import geopandas as gpd\n",
    "\n",
    "#Se importan todos los archivos necesarios para hacer mapas\n",
    "from metodos_mixtos import mapas\n",
    "from metodos_mixtos import mapas_raster\n",
    "\n",
    "import folium\n",
    "import rasterio\n",
    "import numpy as np"
   ]
  },
  {
   "cell_type": "code",
   "execution_count": 2,
   "id": "d1665c8b-cbd3-4929-acf1-266eb38be289",
   "metadata": {},
   "outputs": [],
   "source": [
    "#Crear el diccionario de rutas\n",
    "programacion_path = '/Users/Daniel/Library/CloudStorage/OneDrive-VestigiumMétodosMixtosAplicadosSAS/Programacion'\n",
    "geoinfo_path = '/Users/Daniel/Library/CloudStorage/OneDrive-VestigiumMétodosMixtosAplicadosSAS/geoinfo'\n",
    "\n",
    "rutas = mapas.diccionario_rutas(programacion_path, geoinfo_path)"
   ]
  },
  {
   "cell_type": "code",
   "execution_count": 3,
   "id": "7fa55d4d-a4b0-430e-9d53-5fb448bb4c2b",
   "metadata": {},
   "outputs": [],
   "source": [
    "#La información está en Teams en en el canal GIS en\n",
    "#data_folder = 'geoinfo/Colombia/Bogotá/bosques_bogota'\n",
    "#https://metodosmixtos.sharepoint.com/:f:/s/MMC-General/EogKVdk7FYZBsTKCr79IK98BgnozkrY1czyiyR6MDn5i5g?e=uTfrIK\n",
    "\n",
    "ruta_externa = 'geoinfo/Colombia/Bogotá/bosques_bogota'"
   ]
  },
  {
   "cell_type": "markdown",
   "id": "2fb0656b-6f8b-4f11-9bb3-d3d7debad9b3",
   "metadata": {},
   "source": [
    "###  Cargar los shapes"
   ]
  },
  {
   "cell_type": "code",
   "execution_count": 36,
   "id": "597dcb14-c71b-4ab0-b879-cc60881a3563",
   "metadata": {},
   "outputs": [],
   "source": [
    "#Todos lso municipios de colombia\n",
    "mpios = gpd.read_file(rutas['mpios'])\n",
    "\n",
    "#Shape de Bogotá\n",
    "bta = mpios[mpios['MPIO_CDPMP'] == '11001']\n",
    "\n",
    "#Cargar el shape de macroterritorio rurales \n",
    "mtr = gpd.read_file(ruta_externa+'macroterritorio_rural/Macroterritorio_Rural.shp')\n",
    "\n",
    "#Unidades de planeamiento local de Bogotá\n",
    "upls_path = ruta_externa+'unidadplaneamientolocal/UnidadPlaneamientoLocal.shp'\n",
    "upls = gpd.read_file(upls_path)\n",
    "\n",
    "#Solo las UPLs con clasificación rural o urbano-rural\n",
    "upls_semi_rurales = upls[upls['VOCACION'].isin(['Urbano-Rural', 'Rural'])]\n",
    "\n",
    "#Solo las UPLs clasificadas como rurales\n",
    "upls_rurales = upls[upls['VOCACION'].isin(['Rural'])]\n",
    "\n",
    "#Excluir las UPLs de Sumapáz y de Cuenta del Tunjuelo para mejor visualización\n",
    "bta_compacta = upls[~upls['CODIGO_UPL'].isin(['UPL01','UPL02'])]"
   ]
  },
  {
   "cell_type": "code",
   "execution_count": 4,
   "id": "845a33a4-5fc9-4e57-aec7-556fa3c57180",
   "metadata": {},
   "outputs": [],
   "source": [
    "#Obtener un shape con Bogotá y todos los municipios aledaños\n",
    "def get_adjoining_polygons(gdf1, gdf2):\n",
    "    \"\"\"\n",
    "    Returns a GeoDataFrame with polygons from gdf1 that adjoin gdf2.\n",
    "\n",
    "    Parameters:\n",
    "    - gdf1: GeoDataFrame containing the polygons to check for adjacency.\n",
    "    - gdf2: GeoDataFrame containing the polygons to check adjacency against.\n",
    "\n",
    "    Returns:\n",
    "    - adjoining_gdf: GeoDataFrame containing polygons from gdf1 that adjoin gdf2.\n",
    "    \"\"\"\n",
    "    # Ensure the GeoDataFrames use the same coordinate reference system (CRS)\n",
    "    if gdf1.crs != gdf2.crs:\n",
    "        gdf2 = gdf2.to_crs(gdf1.crs)\n",
    "    \n",
    "    # Create an empty list to hold indices of gdf1 polygons that adjoin gdf2\n",
    "    adjoining_indices = []\n",
    "\n",
    "    # Iterate over each polygon in gdf1\n",
    "    for index, poly1 in gdf1.iterrows():\n",
    "        # Check if the polygon touches any polygon in gdf2\n",
    "        if gdf2.geometry.touches(poly1.geometry).any():\n",
    "            adjoining_indices.append(index)\n",
    "    \n",
    "    # Extract the adjoining polygons from gdf1 using the identified indices\n",
    "    adjoining_gdf = gdf1.loc[adjoining_indices]\n",
    "\n",
    "    return adjoining_gdf"
   ]
  },
  {
   "cell_type": "code",
   "execution_count": 5,
   "id": "cbf536f5-6937-41ca-aa38-609f549231be",
   "metadata": {},
   "outputs": [],
   "source": [
    "#Shape para Bogotá región (todos los municipios que tocan a Bogotá\n",
    "btr = pd.concat([bta, get_adjoining_polygons(mpios, bta)])\n",
    "\n",
    "bbox = btr.total_bounds #Bounding box para la región"
   ]
  },
  {
   "cell_type": "markdown",
   "id": "0b5d7845-d564-4c96-b22f-8cb6f585d461",
   "metadata": {},
   "source": [
    "### Donwload Hansen raster from Google Earth\n",
    "\n",
    "- Lo datos se  bajan manualmente de GEE para poder guardar el archivo directamente Google Drive. \n",
    "- La información se descarga con este código en GEE code editor: \n",
    "\n",
    "```javascript\n",
    "// Define the area of interest (AOI) with the provided bounding box coordinates\n",
    "var aoi = ee.Geometry.Rectangle([-74.93334681, 2.50714324, -73.71197104, 4.97403411]);\n",
    "\n",
    "// Load the Hansen Global Forest Change dataset (version 2022, release 1.10)\n",
    "var hansenDataset = ee.Image('UMD/hansen/global_forest_change_2022_v1_10');\n",
    "\n",
    "// Clip the dataset to the specified AOI\n",
    "var clippedDataset = hansenDataset.clip(aoi);\n",
    "\n",
    "// Define export parameters\n",
    "var exportParams = {\n",
    "  image: clippedDataset, \n",
    "  description: 'Hansen_forest_change_clipped_to_AOI', \n",
    "  scale: 30, \n",
    "  region: aoi,\n",
    "  fileFormat: 'GeoTIFF',\n",
    "  folder: 'GEE_Downloads', // Specify your Google Drive folder name here\n",
    "  maxPixels: 1e9\n",
    "};\n",
    "\n",
    "// Export the clipped dataset to Google Drive\n",
    "Export.image.toDrive(exportParams);\n",
    "\n",
    "print('Export initiated, check Tasks tab for progress');\n"
   ]
  },
  {
   "cell_type": "markdown",
   "id": "80eee400-89ef-4326-877f-7aee469f9df5",
   "metadata": {},
   "source": [
    "###  Deforestation maps"
   ]
  },
  {
   "cell_type": "code",
   "execution_count": 6,
   "id": "6f3db916-2dd0-47c0-b41a-9fe51c7ecb27",
   "metadata": {},
   "outputs": [],
   "source": [
    "hansen_path = ruta_externa+'hansen/Hansen_forest_change_clipped_to_bogota_region.tif'"
   ]
  },
  {
   "cell_type": "code",
   "execution_count": 7,
   "id": "6a7ba455-e88d-467c-8fd6-38f4331e09de",
   "metadata": {},
   "outputs": [],
   "source": [
    "def create_map_with_cumulative_tree_loss(raster_path, base_year=2000, target_year=2020):\n",
    "    \"\"\"\n",
    "    Creates an HTML map displaying tree cover for the year 2000 and cumulative tree loss up to a target year.\n",
    "    \n",
    "    Parameters:\n",
    "    - raster_path: Path to the raster file containing the data.\n",
    "    - base_year: The base year for the dataset (default is 2000 for the 'treecover2000' band).\n",
    "    - target_year: The target year up to which to visualize cumulative tree loss.\n",
    "    \"\"\"\n",
    "    # Assuming a mapping of band names to indices after inspecting the raster\n",
    "    band_mapping = {\n",
    "        'treecover2000': 1,  # Example: band 1 for tree cover\n",
    "        'loss': 2,  # Example: band 2 for loss (year of loss encoded)\n",
    "    }\n",
    "    \n",
    "    # Open the raster file\n",
    "    with rasterio.open(raster_path) as src:\n",
    "        # Read the tree cover and loss year bands\n",
    "        tree_cover = src.read(band_mapping['treecover2000'])\n",
    "        loss_year = src.read(band_mapping['loss'])\n",
    "        \n",
    "        # Calculate which pixels in the loss year band indicate loss up to the target year\n",
    "        loss_up_to_target_year = ((loss_year >= 1) & (loss_year <= (target_year - base_year + 1))).astype(np.uint8) * 255\n",
    "        print(target_year)\n",
    "        \n",
    "        \n",
    "        # Get the map's center and bounds for display\n",
    "        bounds = src.bounds\n",
    "        map_center = [(bounds.top + bounds.bottom) / 2, (bounds.right + bounds.left) / 2]\n",
    "    \n",
    "    # Create a folium map centered on the raster\n",
    "    m = folium.Map(location=map_center, zoom_start=8)\n",
    "    \n",
    "    # Add the tree cover layer\n",
    "    folium.raster_layers.ImageOverlay(\n",
    "        image=tree_cover,\n",
    "        bounds=[[bounds.bottom, bounds.left], [bounds.top, bounds.right]],\n",
    "        colormap=lambda x: (0, x/255, 0, x/100),  # Adjusted for % tree cover\n",
    "        name='Tree Cover 2000'\n",
    "    ).add_to(m)\n",
    "    \n",
    "    # Add the cumulative loss layer up to the target year\n",
    "    folium.raster_layers.ImageOverlay(\n",
    "        image=loss_up_to_target_year,\n",
    "        bounds=[[bounds.bottom, bounds.left], [bounds.top, bounds.right]],\n",
    "        colormap=lambda x: (1, 0, 0, x),  # Red for loss\n",
    "        name=f'Cumulative Forest Loss up to {target_year}',\n",
    "        overlay=True\n",
    "    ).add_to(m)\n",
    "    \n",
    "    # Add layer control\n",
    "    folium.LayerControl().add_to(m)\n",
    "    \n",
    "    # Save the map to an HTML file\n",
    "    m.save('cumulative_tree_loss_map.html')\n",
    "    \n",
    "    print(\"Map has been saved to 'cumulative_tree_loss_map.html'\")\n",
    "\n",
    "# Example usage:\n",
    "# create_map_with_cumulative_tree_loss('path_to_your_raster.tif', base_year=2000, target_year=2020)\n"
   ]
  },
  {
   "cell_type": "code",
   "execution_count": 8,
   "id": "9a386a68-cc14-4fa0-b2b5-edd748ab54a8",
   "metadata": {},
   "outputs": [],
   "source": [
    "#create_map_with_cumulative_tree_loss(hansen_path, base_year=2000, target_year=2020)"
   ]
  },
  {
   "cell_type": "markdown",
   "id": "6545607a-b9ba-4cb5-8ef1-88737aef2558",
   "metadata": {},
   "source": [
    "### Mapas para hacer el video"
   ]
  },
  {
   "cell_type": "code",
   "execution_count": 9,
   "id": "54a32b61-de42-4567-8cf4-f88f1ebf565d",
   "metadata": {},
   "outputs": [],
   "source": [
    "import rasterio\n",
    "import geopandas as gpd\n",
    "import matplotlib.pyplot as plt\n",
    "import numpy as np\n",
    "import rasterio\n",
    "import geopandas as gpd\n",
    "import matplotlib.pyplot as plt\n",
    "import numpy as np\n",
    "import matplotlib.patches as mpatches"
   ]
  },
  {
   "cell_type": "code",
   "execution_count": 181,
   "id": "0483503d-2e16-4a4a-baf4-2a9e874999e6",
   "metadata": {},
   "outputs": [],
   "source": [
    "def create_png_map_with_boundaries_and_crs_check(raster_path, \n",
    "                                                 gdf, \n",
    "                                                 names_column, \n",
    "                                                 base_year=2000, \n",
    "                                                 target_year=2020, \n",
    "                                                 output_path='map.png',\n",
    "                                                basemap=True):\n",
    "    \"\"\"\n",
    "    Creates a PNG map displaying tree cover for the year 2000, cumulative tree loss up to a target year,\n",
    "    and overlays geospatial boundaries from a GeoDataFrame, ensuring matching CRS. Adds legends and labels for GDF polygons.\n",
    "    \n",
    "    Parameters:\n",
    "    - raster_path: Path to the raster file containing the data.\n",
    "    - gdf: A GeoDataFrame containing the boundaries to overlay on the map.\n",
    "    - names_column: The column in the GDF that contains the names of the polygons.\n",
    "    - base_year: The base year for the dataset (default is 2000 for the 'treecover2000' band).\n",
    "    - target_year: The target year up to which to visualize cumulative tree loss.\n",
    "    - output_path: Path to save the output PNG map.\n",
    "    \"\"\"\n",
    "    # Open the raster file\n",
    "    with rasterio.open(raster_path) as src:\n",
    "        # Check and match CRS\n",
    "        raster_crs = src.crs\n",
    "        if gdf.crs != raster_crs:\n",
    "            print(f\"Reprojecting GDF from {gdf.crs} to {raster_crs}\")\n",
    "            gdf = gdf.to_crs(raster_crs)\n",
    "        \n",
    "        # Assuming band 1 is tree cover and band 2 is loss (year of loss encoded)\n",
    "        tree_cover = src.read(1)\n",
    "        loss_year = src.read(4)\n",
    "        \n",
    "        # Adjusting for the encoding where 1 corresponds to 2001, hence target_year - 2000\n",
    "        loss_mask = ((loss_year >= 1) & (loss_year <= (target_year - 2000))).astype(np.uint8)*255\n",
    "        print(target_year)\n",
    "        \n",
    "        # Get the extent of the raster\n",
    "        extent = [src.bounds.left, src.bounds.right, src.bounds.bottom, src.bounds.top]\n",
    "        \n",
    "        # Prepare the figure\n",
    "        fig, ax = plt.subplots(figsize=(10, 8))\n",
    "\n",
    "        \n",
    "        # Plot the tree cover\n",
    "        tree_cover_layer = ax.imshow(tree_cover, cmap='Greens', extent=extent)\n",
    "        \n",
    "        # Overlay the loss mask\n",
    "        loss_layer = ax.imshow(loss_mask, cmap='Reds', extent=extent, alpha=0.6)\n",
    "        \n",
    "        # Overlay the GeoDataFrame boundaries and labels\n",
    "        gdf.boundary.plot(ax=ax, color='grey', linewidth=1, alpha=0.5)\n",
    "        for idx, row in gdf.iterrows():\n",
    "            ax.annotate(text=row[names_column], xy=(row.geometry.centroid.x, row.geometry.centroid.y),\n",
    "                        horizontalalignment='center', fontsize=5, color='grey')\n",
    "        \n",
    "        # Create legends\n",
    "        tree_cover_legend = mpatches.Patch(color='green', label=f'Bosque en {target_year}')\n",
    "        loss_legend = mpatches.Patch(color='red', label=f'Pérdida')\n",
    "        plt.legend(handles=[tree_cover_legend, loss_legend], loc='lower left')\n",
    "        \n",
    "        \n",
    "        # Adding the OSM background with contextily\n",
    "        if basemap == True: \n",
    "            ctx.add_basemap(ax, crs=raster_crs, source=ctx.providers.CartoDB.Positron, alpha=0.35)\n",
    "        \n",
    "        # Set the title and axes labels\n",
    "        ax.set_title(f'Pérdida de bosque 2000 - {target_year}')\n",
    "        \n",
    "        # Remove x and y ticks\n",
    "        ax.set_xticks([])\n",
    "        ax.set_yticks([])\n",
    "        \n",
    "        # Save the figure\n",
    "        plt.savefig(output_path, bbox_inches='tight', dpi=400)\n",
    "        plt.close()\n",
    "        \n",
    "        #print(f\"Map has been saved to '{output_path}'\")\n"
   ]
  },
  {
   "cell_type": "code",
   "execution_count": 182,
   "id": "3acaecd0-2a03-4cfd-8a12-8e7d37e36ad4",
   "metadata": {},
   "outputs": [],
   "source": [
    "#Crear Torca com shape\n",
    "trca = upls[upls['NOMBRE'] == 'Torca']"
   ]
  },
  {
   "cell_type": "code",
   "execution_count": 194,
   "id": "05460408-979d-4661-810a-93494940d36a",
   "metadata": {},
   "outputs": [],
   "source": [
    "#Cortar el raster de Hansen a las UPLs urbanas para mejor visualización\n",
    "gdf_path_temporal = ruta_externa+'gdf_temporal/gdf_temporal.shp'\n",
    "bta_compacta.to_file(gdf_path_temporal)"
   ]
  },
  {
   "cell_type": "code",
   "execution_count": 195,
   "id": "2ff08666-00eb-48ef-99b2-fa50be04c573",
   "metadata": {},
   "outputs": [
    {
     "name": "stdout",
     "output_type": "stream",
     "text": [
      "Reprojecting shapefile from epsg:4686 to EPSG:4326\n",
      "Cropped raster saved to: /Volumes/MMC HD/bosques_bogota/clipped_raster.tif\n"
     ]
    },
    {
     "data": {
      "text/plain": [
       "'/Volumes/MMC HD/bosques_bogota/clipped_raster.tif'"
      ]
     },
     "execution_count": 195,
     "metadata": {},
     "output_type": "execute_result"
    }
   ],
   "source": [
    "#Cortar el raster para que quede del tamaño de la Bogotá compacta\n",
    "clipped_raster_path = ruta_externa+'clipped_raster.tif'\n",
    "mapas_raster.raster_clipping(gdf_path_temporal, hansen_path, clipped_raster_path)"
   ]
  },
  {
   "cell_type": "code",
   "execution_count": 196,
   "id": "82f03a8e-84b1-4468-93d6-165b428ef6d4",
   "metadata": {},
   "outputs": [
    {
     "name": "stdout",
     "output_type": "stream",
     "text": [
      "Reprojecting GDF from epsg:4686 to EPSG:4326\n",
      "2000\n",
      "Reprojecting GDF from epsg:4686 to EPSG:4326\n",
      "2001\n",
      "Reprojecting GDF from epsg:4686 to EPSG:4326\n",
      "2002\n",
      "Reprojecting GDF from epsg:4686 to EPSG:4326\n",
      "2003\n",
      "Reprojecting GDF from epsg:4686 to EPSG:4326\n",
      "2004\n",
      "Reprojecting GDF from epsg:4686 to EPSG:4326\n",
      "2005\n",
      "Reprojecting GDF from epsg:4686 to EPSG:4326\n",
      "2006\n",
      "Reprojecting GDF from epsg:4686 to EPSG:4326\n",
      "2007\n",
      "Reprojecting GDF from epsg:4686 to EPSG:4326\n",
      "2008\n",
      "Reprojecting GDF from epsg:4686 to EPSG:4326\n",
      "2009\n",
      "Reprojecting GDF from epsg:4686 to EPSG:4326\n",
      "2010\n",
      "Reprojecting GDF from epsg:4686 to EPSG:4326\n",
      "2011\n",
      "Reprojecting GDF from epsg:4686 to EPSG:4326\n",
      "2012\n",
      "Reprojecting GDF from epsg:4686 to EPSG:4326\n",
      "2013\n",
      "Reprojecting GDF from epsg:4686 to EPSG:4326\n",
      "2014\n",
      "Reprojecting GDF from epsg:4686 to EPSG:4326\n",
      "2015\n",
      "Reprojecting GDF from epsg:4686 to EPSG:4326\n",
      "2016\n",
      "Reprojecting GDF from epsg:4686 to EPSG:4326\n",
      "2017\n",
      "Reprojecting GDF from epsg:4686 to EPSG:4326\n",
      "2018\n",
      "Reprojecting GDF from epsg:4686 to EPSG:4326\n",
      "2019\n",
      "Reprojecting GDF from epsg:4686 to EPSG:4326\n",
      "2020\n",
      "Reprojecting GDF from epsg:4686 to EPSG:4326\n",
      "2021\n",
      "Reprojecting GDF from epsg:4686 to EPSG:4326\n",
      "2022\n"
     ]
    },
    {
     "data": {
      "text/plain": [
       "''"
      ]
     },
     "execution_count": 196,
     "metadata": {},
     "output_type": "execute_result"
    }
   ],
   "source": [
    "for year in range(2000,2023):\n",
    "    \n",
    "    create_png_map_with_boundaries_and_crs_check(clipped_raster_path, \n",
    "                                             bta_compacta, \n",
    "                                             names_column='NOMBRE',\n",
    "                                             base_year=2000,\n",
    "                                             target_year=year, \n",
    "                                             output_path=ruta_externa+'video/bogota/perdida_bogota_{}.png'.format(year))\n",
    ";"
   ]
  },
  {
   "cell_type": "markdown",
   "id": "ed8a11f9-a1a2-4ee1-80e1-805972b735ef",
   "metadata": {},
   "source": [
    "# Create a video with the images of the maps"
   ]
  },
  {
   "cell_type": "code",
   "execution_count": 197,
   "id": "19dacf5f",
   "metadata": {},
   "outputs": [],
   "source": [
    "import os\n",
    "import moviepy.video.io.ImageSequenceClip"
   ]
  },
  {
   "cell_type": "code",
   "execution_count": 198,
   "id": "9861b3ab",
   "metadata": {},
   "outputs": [
    {
     "name": "stdout",
     "output_type": "stream",
     "text": [
      "Moviepy - Building video /Volumes/MMC HD/bosques_bogota/perdida_bosques_bogota.mp4.\n",
      "Moviepy - Writing video /Volumes/MMC HD/bosques_bogota/perdida_bosques_bogota.mp4\n",
      "\n"
     ]
    },
    {
     "name": "stderr",
     "output_type": "stream",
     "text": [
      "                                                                                  \r"
     ]
    },
    {
     "name": "stdout",
     "output_type": "stream",
     "text": [
      "Moviepy - Done !\n",
      "Moviepy - video ready /Volumes/MMC HD/bosques_bogota/perdida_bosques_bogota.mp4\n"
     ]
    }
   ],
   "source": [
    "image_folder=ruta_externa+'video/bogota'\n",
    "fps=2\n",
    "files = os.listdir(image_folder)\n",
    "files.sort()\n",
    "image_files = [image_folder+'/'+img for img in files if img.endswith(\".png\")]\n",
    "clip = moviepy.video.io.ImageSequenceClip.ImageSequenceClip(image_files, fps=fps)\n",
    "clip.write_videofile(ruta_externa+'perdida_bosques_bogota.mp4')"
   ]
  },
  {
   "cell_type": "markdown",
   "id": "acda0fef-d707-4ccc-a4f6-78dd2f8363c6",
   "metadata": {},
   "source": [
    "### Calcular la evolución de la cobertura boscosa por UPL"
   ]
  },
  {
   "cell_type": "code",
   "execution_count": 15,
   "id": "3eb80299-daaa-402b-b41a-0e8708db9e3c",
   "metadata": {},
   "outputs": [
    {
     "name": "stdout",
     "output_type": "stream",
     "text": [
      "Reprojecting shapefile from epsg:4686 to EPSG:4326\n",
      "Cropped raster saved to: /Volumes/MMC HD/bosques_bogota/clipped_raster.tif\n"
     ]
    },
    {
     "data": {
      "text/plain": [
       "'/Volumes/MMC HD/bosques_bogota/clipped_raster.tif'"
      ]
     },
     "execution_count": 15,
     "metadata": {},
     "output_type": "execute_result"
    }
   ],
   "source": [
    "#Cortar el raster de Hansen al tamaño de todas las UPLs\n",
    "upls.to_file(gdf_path_temporal)\n",
    "mapas_raster.raster_clipping(gdf_path_temporal, hansen_path, clipped_raster_path)"
   ]
  },
  {
   "cell_type": "code",
   "execution_count": 16,
   "id": "015c7d21-d9cf-450e-9427-5555b2248935",
   "metadata": {},
   "outputs": [],
   "source": [
    "with rasterio.open(hansen_path) as src:\n",
    "    raster_profile = src.profile  # Store the profile for later use\n",
    "    #tree_cover_2000 = src.read(1)\n",
    "    #loss = src.read(3)\n",
    "    loss_year = src.read(4)"
   ]
  },
  {
   "cell_type": "code",
   "execution_count": 17,
   "id": "2916ea8a-8fec-49bb-956f-aa6e1f38c7ba",
   "metadata": {},
   "outputs": [],
   "source": [
    "perdida = pd.Series(loss_year.flatten())"
   ]
  },
  {
   "cell_type": "code",
   "execution_count": 18,
   "id": "e63f37c1-dfa0-4c8e-a9da-b5b63801454d",
   "metadata": {},
   "outputs": [
    {
     "data": {
      "text/plain": [
       "<Axes: >"
      ]
     },
     "execution_count": 18,
     "metadata": {},
     "output_type": "execute_result"
    },
    {
     "data": {
      "image/png": "[encoded data removed]",
      "text/plain": [
       "<Figure size 640x480 with 1 Axes>"
      ]
     },
     "metadata": {},
     "output_type": "display_data"
    }
   ],
   "source": [
    "perdida[perdida>0].hist()"
   ]
  },
  {
   "cell_type": "code",
   "execution_count": 19,
   "id": "093b42c5-152e-4efc-9322-9bd4fa5a8a09",
   "metadata": {},
   "outputs": [],
   "source": [
    "df1 = upls.copy(deep=True)"
   ]
  },
  {
   "cell_type": "code",
   "execution_count": 20,
   "id": "0ae61b63-5a0e-4d7e-8e9f-51326e84c866",
   "metadata": {},
   "outputs": [],
   "source": [
    "for i in range(2000, 2023):\n",
    "    df1 = mapas_raster.calculate_tree_cover(clipped_raster_path, df1, i)"
   ]
  },
  {
   "cell_type": "code",
   "execution_count": 21,
   "id": "a9a67581-0064-4c3b-9547-de5bf6973214",
   "metadata": {},
   "outputs": [],
   "source": [
    "df2 = pd.concat([df1[['CODIGO_UPL', 'NOMBRE']], df1.iloc[:,16:]], axis=1)"
   ]
  },
  {
   "cell_type": "code",
   "execution_count": 22,
   "id": "1c68755f-cc84-4808-8525-20db3f59590c",
   "metadata": {},
   "outputs": [],
   "source": [
    "df2.to_csv(ruta_externa+'cobertura_boscosa_upls_bogota.csv')\n",
    "df2.to_excel(ruta_externa+'cobertura_boscosa_upls_bogota.xlsx')   "
   ]
  },
  {
   "cell_type": "markdown",
   "id": "94773069-ee02-4e83-b22c-26bc4e1d7674",
   "metadata": {},
   "source": [
    "### Análisis de la información"
   ]
  },
  {
   "cell_type": "code",
   "execution_count": 23,
   "id": "4a5b2a60-f20c-4486-8094-48749ef45c3c",
   "metadata": {},
   "outputs": [
    {
     "name": "stdout",
     "output_type": "stream",
     "text": [
      "28659.329250000006\n"
     ]
    }
   ],
   "source": [
    "ab_22 = df2['tree_cover_22'].sum()\n",
    "print(ab_22)"
   ]
  },
  {
   "cell_type": "code",
   "execution_count": 24,
   "id": "062b8e97-80b1-4f3a-8ec4-85542a624161",
   "metadata": {},
   "outputs": [
    {
     "name": "stdout",
     "output_type": "stream",
     "text": [
      "29970.02145\n"
     ]
    }
   ],
   "source": [
    "ab_00 = df2['tree_cover_0'].sum()\n",
    "print(ab_00)"
   ]
  },
  {
   "cell_type": "code",
   "execution_count": 25,
   "id": "26acb00b-fa0d-4633-815e-4c23ef297394",
   "metadata": {},
   "outputs": [
    {
     "data": {
      "text/plain": [
       "1310.692199999994"
      ]
     },
     "execution_count": 25,
     "metadata": {},
     "output_type": "execute_result"
    }
   ],
   "source": [
    "ab_00-ab_22"
   ]
  },
  {
   "cell_type": "code",
   "execution_count": 26,
   "id": "85d16bdf-7bc8-4c8a-9d57-f88829008ca4",
   "metadata": {},
   "outputs": [
    {
     "data": {
      "text/html": [
       "<div>\n",
       "<style scoped>\n",
       "    .dataframe tbody tr th:only-of-type {\n",
       "        vertical-align: middle;\n",
       "    }\n",
       "\n",
       "    .dataframe tbody tr th {\n",
       "        vertical-align: top;\n",
       "    }\n",
       "\n",
       "    .dataframe thead th {\n",
       "        text-align: right;\n",
       "    }\n",
       "</style>\n",
       "<table border=\"1\" class=\"dataframe\">\n",
       "  <thead>\n",
       "    <tr style=\"text-align: right;\">\n",
       "      <th></th>\n",
       "      <th>CODIGO_UPL</th>\n",
       "      <th>NOMBRE</th>\n",
       "      <th>ACTO_ADMIN</th>\n",
       "      <th>NUMERO_ACT</th>\n",
       "      <th>FECHA_ACTO</th>\n",
       "      <th>NORMATIVA</th>\n",
       "      <th>VOCACION</th>\n",
       "      <th>OBSERVACIO</th>\n",
       "      <th>AREA_HA</th>\n",
       "      <th>SECTOR</th>\n",
       "      <th>ESCALA_CAP</th>\n",
       "      <th>FECHA_CAPT</th>\n",
       "      <th>RESPONSABL</th>\n",
       "      <th>SHAPE_Leng</th>\n",
       "      <th>SHAPE_Area</th>\n",
       "      <th>geometry</th>\n",
       "    </tr>\n",
       "  </thead>\n",
       "  <tbody>\n",
       "    <tr>\n",
       "      <th>0</th>\n",
       "      <td>UPL13</td>\n",
       "      <td>Tintal</td>\n",
       "      <td>DEC</td>\n",
       "      <td>555</td>\n",
       "      <td>2021-12-29</td>\n",
       "      <td>En el marco del Decreto 555 del 29 de diciembr...</td>\n",
       "      <td>Urbano-Rural</td>\n",
       "      <td>Que mediante Resolución 2050 del 23 de noviemb...</td>\n",
       "      <td>1,284.99</td>\n",
       "      <td>Sector Sur Occidente</td>\n",
       "      <td>None</td>\n",
       "      <td>2022-11-23</td>\n",
       "      <td>553</td>\n",
       "      <td>0.15</td>\n",
       "      <td>0.00</td>\n",
       "      <td>POLYGON ((-74.16957 4.65632, -74.16955 4.65631...</td>\n",
       "    </tr>\n",
       "    <tr>\n",
       "      <th>27</th>\n",
       "      <td>UPL04</td>\n",
       "      <td>Lucero</td>\n",
       "      <td>DEC</td>\n",
       "      <td>555</td>\n",
       "      <td>2021-12-29</td>\n",
       "      <td>En el marco del Decreto 555 del 29 de diciembr...</td>\n",
       "      <td>Urbano-Rural</td>\n",
       "      <td>Que mediante Resolución 2050 del 23 de noviemb...</td>\n",
       "      <td>1,318.05</td>\n",
       "      <td>Sector Sur Oriente</td>\n",
       "      <td>None</td>\n",
       "      <td>2022-11-23</td>\n",
       "      <td>553</td>\n",
       "      <td>0.23</td>\n",
       "      <td>0.00</td>\n",
       "      <td>POLYGON ((-74.12668 4.52559, -74.12669 4.52561...</td>\n",
       "    </tr>\n",
       "    <tr>\n",
       "      <th>30</th>\n",
       "      <td>UPL21</td>\n",
       "      <td>San Cristóbal</td>\n",
       "      <td>DEC</td>\n",
       "      <td>555</td>\n",
       "      <td>2021-12-29</td>\n",
       "      <td>En el marco del Decreto 555 del 29 de diciembr...</td>\n",
       "      <td>Urbano</td>\n",
       "      <td>Que mediante Resolución 2050 del 23 de noviemb...</td>\n",
       "      <td>1,307.49</td>\n",
       "      <td>Sector Sur Oriente</td>\n",
       "      <td>None</td>\n",
       "      <td>2022-11-23</td>\n",
       "      <td>553</td>\n",
       "      <td>0.24</td>\n",
       "      <td>0.00</td>\n",
       "      <td>POLYGON ((-74.07280 4.57680, -74.07287 4.57669...</td>\n",
       "    </tr>\n",
       "  </tbody>\n",
       "</table>\n",
       "</div>"
      ],
      "text/plain": [
       "   CODIGO_UPL         NOMBRE ACTO_ADMIN NUMERO_ACT  FECHA_ACTO   \n",
       "0       UPL13         Tintal        DEC        555  2021-12-29  \\\n",
       "27      UPL04         Lucero        DEC        555  2021-12-29   \n",
       "30      UPL21  San Cristóbal        DEC        555  2021-12-29   \n",
       "\n",
       "                                            NORMATIVA      VOCACION   \n",
       "0   En el marco del Decreto 555 del 29 de diciembr...  Urbano-Rural  \\\n",
       "27  En el marco del Decreto 555 del 29 de diciembr...  Urbano-Rural   \n",
       "30  En el marco del Decreto 555 del 29 de diciembr...        Urbano   \n",
       "\n",
       "                                           OBSERVACIO  AREA_HA   \n",
       "0   Que mediante Resolución 2050 del 23 de noviemb... 1,284.99  \\\n",
       "27  Que mediante Resolución 2050 del 23 de noviemb... 1,318.05   \n",
       "30  Que mediante Resolución 2050 del 23 de noviemb... 1,307.49   \n",
       "\n",
       "                  SECTOR ESCALA_CAP  FECHA_CAPT RESPONSABL  SHAPE_Leng   \n",
       "0   Sector Sur Occidente       None  2022-11-23        553        0.15  \\\n",
       "27    Sector Sur Oriente       None  2022-11-23        553        0.23   \n",
       "30    Sector Sur Oriente       None  2022-11-23        553        0.24   \n",
       "\n",
       "    SHAPE_Area                                           geometry  \n",
       "0         0.00  POLYGON ((-74.16957 4.65632, -74.16955 4.65631...  \n",
       "27        0.00  POLYGON ((-74.12668 4.52559, -74.12669 4.52561...  \n",
       "30        0.00  POLYGON ((-74.07280 4.57680, -74.07287 4.57669...  "
      ]
     },
     "execution_count": 26,
     "metadata": {},
     "output_type": "execute_result"
    }
   ],
   "source": [
    "#COmparación del áreas\n",
    "upls[(1250 <  upls['AREA_HA']) &  (upls['AREA_HA'] < 1350)]"
   ]
  },
  {
   "cell_type": "code",
   "execution_count": 27,
   "id": "8e693731-3412-4777-9c31-e13fb82ff6fb",
   "metadata": {},
   "outputs": [],
   "source": [
    "df2['perdida_2000_22'] = df2['tree_cover_0'] - df2['tree_cover_22']"
   ]
  },
  {
   "cell_type": "code",
   "execution_count": 28,
   "id": "fb845602-a52d-47b0-94a1-d524ffa3981b",
   "metadata": {},
   "outputs": [],
   "source": [
    "perdida_upls = df2[['NOMBRE', 'perdida_2000_22']].sort_values(by='perdida_2000_22', ascending=False).head()"
   ]
  },
  {
   "cell_type": "code",
   "execution_count": 29,
   "id": "7d050601-7914-459e-b704-c8dd3dd25af2",
   "metadata": {},
   "outputs": [
    {
     "data": {
      "text/plain": [
       "<Axes: ylabel='NOMBRE'>"
      ]
     },
     "execution_count": 29,
     "metadata": {},
     "output_type": "execute_result"
    },
    {
     "data": {
      "image/png": "[encoded data removed]",
      "text/plain": [
       "<Figure size 640x480 with 1 Axes>"
      ]
     },
     "metadata": {},
     "output_type": "display_data"
    }
   ],
   "source": [
    "perdida_upls.set_index('NOMBRE').plot(kind='barh')"
   ]
  },
  {
   "cell_type": "code",
   "execution_count": 79,
   "id": "75ab4f41-a3ea-4394-bc4b-d81ee6ba7a35",
   "metadata": {},
   "outputs": [
    {
     "data": {
      "text/html": [
       "<div>\n",
       "<style scoped>\n",
       "    .dataframe tbody tr th:only-of-type {\n",
       "        vertical-align: middle;\n",
       "    }\n",
       "\n",
       "    .dataframe tbody tr th {\n",
       "        vertical-align: top;\n",
       "    }\n",
       "\n",
       "    .dataframe thead th {\n",
       "        text-align: right;\n",
       "    }\n",
       "</style>\n",
       "<table border=\"1\" class=\"dataframe\">\n",
       "  <thead>\n",
       "    <tr style=\"text-align: right;\">\n",
       "      <th></th>\n",
       "      <th>NOMBRE</th>\n",
       "      <th>tree_cover_22</th>\n",
       "    </tr>\n",
       "  </thead>\n",
       "  <tbody>\n",
       "    <tr>\n",
       "      <th>23</th>\n",
       "      <td>Sumapáz</td>\n",
       "      <td>13,303.45</td>\n",
       "    </tr>\n",
       "    <tr>\n",
       "      <th>31</th>\n",
       "      <td>Cerros Orientales</td>\n",
       "      <td>8,879.87</td>\n",
       "    </tr>\n",
       "    <tr>\n",
       "      <th>21</th>\n",
       "      <td>Cuenca del Tunjuelo</td>\n",
       "      <td>3,722.37</td>\n",
       "    </tr>\n",
       "    <tr>\n",
       "      <th>22</th>\n",
       "      <td>Torca</td>\n",
       "      <td>589.23</td>\n",
       "    </tr>\n",
       "    <tr>\n",
       "      <th>26</th>\n",
       "      <td>Rafael Uribe</td>\n",
       "      <td>261.82</td>\n",
       "    </tr>\n",
       "    <tr>\n",
       "      <th>24</th>\n",
       "      <td>Britalia</td>\n",
       "      <td>228.84</td>\n",
       "    </tr>\n",
       "    <tr>\n",
       "      <th>16</th>\n",
       "      <td>Engativá</td>\n",
       "      <td>184.53</td>\n",
       "    </tr>\n",
       "    <tr>\n",
       "      <th>5</th>\n",
       "      <td>Usaquén</td>\n",
       "      <td>162.58</td>\n",
       "    </tr>\n",
       "    <tr>\n",
       "      <th>6</th>\n",
       "      <td>Niza</td>\n",
       "      <td>157.16</td>\n",
       "    </tr>\n",
       "    <tr>\n",
       "      <th>25</th>\n",
       "      <td>Usme - Entrenubes</td>\n",
       "      <td>153.64</td>\n",
       "    </tr>\n",
       "    <tr>\n",
       "      <th>12</th>\n",
       "      <td>Porvenir</td>\n",
       "      <td>123.77</td>\n",
       "    </tr>\n",
       "    <tr>\n",
       "      <th>30</th>\n",
       "      <td>San Cristóbal</td>\n",
       "      <td>102.17</td>\n",
       "    </tr>\n",
       "    <tr>\n",
       "      <th>29</th>\n",
       "      <td>Centro Histórico</td>\n",
       "      <td>96.67</td>\n",
       "    </tr>\n",
       "    <tr>\n",
       "      <th>19</th>\n",
       "      <td>Tibabuyes</td>\n",
       "      <td>96.63</td>\n",
       "    </tr>\n",
       "    <tr>\n",
       "      <th>32</th>\n",
       "      <td>Suba</td>\n",
       "      <td>73.81</td>\n",
       "    </tr>\n",
       "    <tr>\n",
       "      <th>28</th>\n",
       "      <td>Chapinero</td>\n",
       "      <td>70.34</td>\n",
       "    </tr>\n",
       "    <tr>\n",
       "      <th>4</th>\n",
       "      <td>Teusaquillo</td>\n",
       "      <td>65.03</td>\n",
       "    </tr>\n",
       "    <tr>\n",
       "      <th>1</th>\n",
       "      <td>Salitre</td>\n",
       "      <td>54.14</td>\n",
       "    </tr>\n",
       "    <tr>\n",
       "      <th>0</th>\n",
       "      <td>Tintal</td>\n",
       "      <td>52.58</td>\n",
       "    </tr>\n",
       "    <tr>\n",
       "      <th>10</th>\n",
       "      <td>Fontibón</td>\n",
       "      <td>48.58</td>\n",
       "    </tr>\n",
       "    <tr>\n",
       "      <th>13</th>\n",
       "      <td>Toberín</td>\n",
       "      <td>35.04</td>\n",
       "    </tr>\n",
       "    <tr>\n",
       "      <th>18</th>\n",
       "      <td>Rincón de Suba</td>\n",
       "      <td>30.86</td>\n",
       "    </tr>\n",
       "    <tr>\n",
       "      <th>8</th>\n",
       "      <td>Barrios Unidos</td>\n",
       "      <td>29.45</td>\n",
       "    </tr>\n",
       "    <tr>\n",
       "      <th>14</th>\n",
       "      <td>Arborizadora</td>\n",
       "      <td>29.28</td>\n",
       "    </tr>\n",
       "    <tr>\n",
       "      <th>11</th>\n",
       "      <td>Bosa</td>\n",
       "      <td>25.47</td>\n",
       "    </tr>\n",
       "    <tr>\n",
       "      <th>2</th>\n",
       "      <td>Restrepo</td>\n",
       "      <td>16.97</td>\n",
       "    </tr>\n",
       "    <tr>\n",
       "      <th>20</th>\n",
       "      <td>Tunjuelito</td>\n",
       "      <td>12.82</td>\n",
       "    </tr>\n",
       "    <tr>\n",
       "      <th>7</th>\n",
       "      <td>Kennedy</td>\n",
       "      <td>11.53</td>\n",
       "    </tr>\n",
       "    <tr>\n",
       "      <th>17</th>\n",
       "      <td>Patio Bonito</td>\n",
       "      <td>10.86</td>\n",
       "    </tr>\n",
       "    <tr>\n",
       "      <th>3</th>\n",
       "      <td>Puente Aranda</td>\n",
       "      <td>10.64</td>\n",
       "    </tr>\n",
       "    <tr>\n",
       "      <th>27</th>\n",
       "      <td>Lucero</td>\n",
       "      <td>10.04</td>\n",
       "    </tr>\n",
       "    <tr>\n",
       "      <th>9</th>\n",
       "      <td>Tabora</td>\n",
       "      <td>8.80</td>\n",
       "    </tr>\n",
       "    <tr>\n",
       "      <th>15</th>\n",
       "      <td>Edén</td>\n",
       "      <td>0.36</td>\n",
       "    </tr>\n",
       "  </tbody>\n",
       "</table>\n",
       "</div>"
      ],
      "text/plain": [
       "                 NOMBRE  tree_cover_22\n",
       "23              Sumapáz      13,303.45\n",
       "31    Cerros Orientales       8,879.87\n",
       "21  Cuenca del Tunjuelo       3,722.37\n",
       "22                Torca         589.23\n",
       "26         Rafael Uribe         261.82\n",
       "24             Britalia         228.84\n",
       "16             Engativá         184.53\n",
       "5               Usaquén         162.58\n",
       "6                  Niza         157.16\n",
       "25    Usme - Entrenubes         153.64\n",
       "12             Porvenir         123.77\n",
       "30        San Cristóbal         102.17\n",
       "29     Centro Histórico          96.67\n",
       "19            Tibabuyes          96.63\n",
       "32                 Suba          73.81\n",
       "28            Chapinero          70.34\n",
       "4           Teusaquillo          65.03\n",
       "1               Salitre          54.14\n",
       "0                Tintal          52.58\n",
       "10             Fontibón          48.58\n",
       "13              Toberín          35.04\n",
       "18       Rincón de Suba          30.86\n",
       "8        Barrios Unidos          29.45\n",
       "14         Arborizadora          29.28\n",
       "11                 Bosa          25.47\n",
       "2              Restrepo          16.97\n",
       "20           Tunjuelito          12.82\n",
       "7               Kennedy          11.53\n",
       "17         Patio Bonito          10.86\n",
       "3         Puente Aranda          10.64\n",
       "27               Lucero          10.04\n",
       "9                Tabora           8.80\n",
       "15                 Edén           0.36"
      ]
     },
     "execution_count": 79,
     "metadata": {},
     "output_type": "execute_result"
    }
   ],
   "source": [
    "df2[['NOMBRE', 'tree_cover_22']].sort_values(by='tree_cover_22', ascending=False)"
   ]
  },
  {
   "cell_type": "code",
   "execution_count": 84,
   "id": "886a4f1e-17df-4d88-bd22-7f7e7a3f2aaa",
   "metadata": {},
   "outputs": [
    {
     "data": {
      "text/html": [
       "<div>\n",
       "<style scoped>\n",
       "    .dataframe tbody tr th:only-of-type {\n",
       "        vertical-align: middle;\n",
       "    }\n",
       "\n",
       "    .dataframe tbody tr th {\n",
       "        vertical-align: top;\n",
       "    }\n",
       "\n",
       "    .dataframe thead th {\n",
       "        text-align: right;\n",
       "    }\n",
       "</style>\n",
       "<table border=\"1\" class=\"dataframe\">\n",
       "  <thead>\n",
       "    <tr style=\"text-align: right;\">\n",
       "      <th></th>\n",
       "      <th>23</th>\n",
       "    </tr>\n",
       "  </thead>\n",
       "  <tbody>\n",
       "    <tr>\n",
       "      <th>CODIGO_UPL</th>\n",
       "      <td>UPL01</td>\n",
       "    </tr>\n",
       "    <tr>\n",
       "      <th>NOMBRE</th>\n",
       "      <td>Sumapáz</td>\n",
       "    </tr>\n",
       "    <tr>\n",
       "      <th>ACTO_ADMIN</th>\n",
       "      <td>DEC</td>\n",
       "    </tr>\n",
       "    <tr>\n",
       "      <th>NUMERO_ACT</th>\n",
       "      <td>555</td>\n",
       "    </tr>\n",
       "    <tr>\n",
       "      <th>FECHA_ACTO</th>\n",
       "      <td>2021-12-29</td>\n",
       "    </tr>\n",
       "    <tr>\n",
       "      <th>NORMATIVA</th>\n",
       "      <td>En el marco del Decreto 555 del 29 de diciembr...</td>\n",
       "    </tr>\n",
       "    <tr>\n",
       "      <th>VOCACION</th>\n",
       "      <td>Rural</td>\n",
       "    </tr>\n",
       "    <tr>\n",
       "      <th>OBSERVACIO</th>\n",
       "      <td>Que mediante Resolución 2050 del 23 de noviemb...</td>\n",
       "    </tr>\n",
       "    <tr>\n",
       "      <th>AREA_HA</th>\n",
       "      <td>78,096.87</td>\n",
       "    </tr>\n",
       "    <tr>\n",
       "      <th>SECTOR</th>\n",
       "      <td>Sector Rural</td>\n",
       "    </tr>\n",
       "    <tr>\n",
       "      <th>ESCALA_CAP</th>\n",
       "      <td>None</td>\n",
       "    </tr>\n",
       "    <tr>\n",
       "      <th>FECHA_CAPT</th>\n",
       "      <td>2022-11-23</td>\n",
       "    </tr>\n",
       "    <tr>\n",
       "      <th>RESPONSABL</th>\n",
       "      <td>553</td>\n",
       "    </tr>\n",
       "    <tr>\n",
       "      <th>SHAPE_Leng</th>\n",
       "      <td>1.91</td>\n",
       "    </tr>\n",
       "    <tr>\n",
       "      <th>SHAPE_Area</th>\n",
       "      <td>0.06</td>\n",
       "    </tr>\n",
       "    <tr>\n",
       "      <th>geometry</th>\n",
       "      <td>POLYGON ((-74.11071724280782 4.181667040191542...</td>\n",
       "    </tr>\n",
       "  </tbody>\n",
       "</table>\n",
       "</div>"
      ],
      "text/plain": [
       "                                                           23\n",
       "CODIGO_UPL                                              UPL01\n",
       "NOMBRE                                                Sumapáz\n",
       "ACTO_ADMIN                                                DEC\n",
       "NUMERO_ACT                                                555\n",
       "FECHA_ACTO                                         2021-12-29\n",
       "NORMATIVA   En el marco del Decreto 555 del 29 de diciembr...\n",
       "VOCACION                                                Rural\n",
       "OBSERVACIO  Que mediante Resolución 2050 del 23 de noviemb...\n",
       "AREA_HA                                             78,096.87\n",
       "SECTOR                                           Sector Rural\n",
       "ESCALA_CAP                                               None\n",
       "FECHA_CAPT                                         2022-11-23\n",
       "RESPONSABL                                                553\n",
       "SHAPE_Leng                                               1.91\n",
       "SHAPE_Area                                               0.06\n",
       "geometry    POLYGON ((-74.11071724280782 4.181667040191542..."
      ]
     },
     "execution_count": 84,
     "metadata": {},
     "output_type": "execute_result"
    }
   ],
   "source": [
    "upls[upls['NOMBRE'] == 'Sumapáz'].transpose()"
   ]
  },
  {
   "cell_type": "code",
   "execution_count": 34,
   "id": "25f84031-5ae9-49d0-a28e-6f9eb4c73f03",
   "metadata": {},
   "outputs": [
    {
     "data": {
      "text/plain": [
       "138987.10285109997"
      ]
     },
     "execution_count": 34,
     "metadata": {},
     "output_type": "execute_result"
    }
   ],
   "source": [
    "upls_rurales['AREA_HA'].sum()"
   ]
  },
  {
   "cell_type": "code",
   "execution_count": 35,
   "id": "e474be65-6448-4689-92bd-d4726cf77721",
   "metadata": {},
   "outputs": [
    {
     "data": {
      "text/plain": [
       "163636.94097601998"
      ]
     },
     "execution_count": 35,
     "metadata": {},
     "output_type": "execute_result"
    }
   ],
   "source": [
    "upls['AREA_HA'].sum()"
   ]
  },
  {
   "cell_type": "code",
   "execution_count": 39,
   "id": "dde031ff-4fad-45ca-8708-b465a0fd184e",
   "metadata": {},
   "outputs": [
    {
     "data": {
      "text/plain": [
       "119607.66098419999"
      ]
     },
     "execution_count": 39,
     "metadata": {},
     "output_type": "execute_result"
    }
   ],
   "source": [
    "upls_rurales['AREA_HA'].sum()"
   ]
  },
  {
   "cell_type": "code",
   "execution_count": null,
   "id": "624d7ca8-8e4c-4dd5-b0c6-a91e09bb827e",
   "metadata": {},
   "outputs": [],
   "source": []
  }
 ],
 "metadata": {
  "kernelspec": {
   "display_name": "Python 3 (ipykernel)",
   "language": "python",
   "name": "python3"
  },
  "language_info": {
   "codemirror_mode": {
    "name": "ipython",
    "version": 3
   },
   "file_extension": ".py",
   "mimetype": "text/x-python",
   "name": "python",
   "nbconvert_exporter": "python",
   "pygments_lexer": "ipython3",
   "version": "3.12.6"
  }
 },
 "nbformat": 4,
 "nbformat_minor": 5
}
