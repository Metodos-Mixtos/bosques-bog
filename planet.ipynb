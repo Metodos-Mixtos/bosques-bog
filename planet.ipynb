{
 "cells": [
  {
   "cell_type": "markdown",
   "id": "2dc69445-ff33-4bcb-8bea-b97d9de5707b",
   "metadata": {},
   "source": [
    "### Cálculo del NVDI para los proyectos visitados"
   ]
  },
  {
   "cell_type": "markdown",
   "id": "90ed1136-65f7-4175-9868-15a07282fee5",
   "metadata": {},
   "source": [
    "### Cargue de las zonas de proyectos visitados y de un buffer de 10 KM para cada punto"
   ]
  },
  {
   "cell_type": "code",
   "execution_count": 27,
   "id": "08a99753-d826-4137-ad57-205a7d9a8876",
   "metadata": {},
   "outputs": [],
   "source": [
    "import os\n",
    "from dotenv import load_dotenv\n",
    "import planet\n",
    "from planet import Auth\n",
    "import requests\n",
    "import pandas as pd\n",
    "import geopandas as gpd\n",
    "from metodos_mixtos import mapas\n",
    "import planet_functions as pf\n",
    "\n",
    "import imageio\n",
    "import rasterio\n",
    "import numpy as np"
   ]
  },
  {
   "cell_type": "code",
   "execution_count": 11,
   "id": "29ff7bad-0daa-4b8f-a656-bf92b49e1bd6",
   "metadata": {},
   "outputs": [],
   "source": [
    "#Cargar credenciales\n",
    "load_dotenv()\n",
    "\n",
    "PLANET_API_KEY = os.getenv(\"PLANET_API_KEY\")\n",
    "PLANET_USER=os.getenv(\"PLANET_USER\")\n",
    "PLANET_PASS=os.getenv(\"PLANET_PASS\")"
   ]
  },
  {
   "cell_type": "code",
   "execution_count": 12,
   "id": "0f6d80f7-cdb2-411f-a629-993d0dacb1af",
   "metadata": {},
   "outputs": [],
   "source": [
    "#Folder de datos\n",
    "data_folder = '/Users/Daniel/Library/CloudStorage/OneDrive-VestigiumMétodosMixtosAplicadosSAS/geoinfo/Colombia/Bogotá/bosques_bogota'"
   ]
  },
  {
   "cell_type": "code",
   "execution_count": 13,
   "id": "ed50eb88-84d1-468f-8076-b6648aaa7fc3",
   "metadata": {},
   "outputs": [],
   "source": [
    "#Crear el diccionario de rutas:\n",
    "programacion_path = os.getenv(\"PROGRAMACION_PATH\") \n",
    "geoinfo_path = os.getenv(\"GEOINFO_PATH\")\n",
    "rutas = mapas.diccionario_rutas(programacion_path, geoinfo_path)"
   ]
  },
  {
   "cell_type": "markdown",
   "id": "ee1f02ed-3bb1-4ad7-86f0-aeec40862753",
   "metadata": {},
   "source": [
    "### Cargar shapes relevantes"
   ]
  },
  {
   "cell_type": "code",
   "execution_count": 14,
   "id": "ca49b358-378d-4557-b0eb-fe7fec4c5ead",
   "metadata": {},
   "outputs": [],
   "source": [
    "#Todos lso municipios de colombia\n",
    "mpios = gpd.read_file(rutas['mpios'])\n",
    "\n",
    "#Shape de Bogotá\n",
    "bta = mpios[mpios['MPIO_CDPMP'] == '11001']\n",
    "\n",
    "#Cargar el shape de macroterritorio rurales \n",
    "mtr_path = os.path.join(data_folder, 'macroterritorio_rural/Macroterritorio_Rural.shp')\n",
    "mtr = gpd.read_file(mtr_path)\n",
    "\n",
    "#Unidades de planeamiento local de Bogotá\n",
    "upls_path = os.path.join(data_folder, 'unidadplaneamientolocal/UnidadPlaneamientoLocal.shp')\n",
    "upls = gpd.read_file(upls_path)\n",
    "\n",
    "#Solo las UPLs con clasificación rural o urbano-rural\n",
    "upls_semi_rurales = upls[upls['VOCACION'].isin(['Urbano-Rural', 'Rural'])]\n",
    "\n",
    "#Solo las UPLs clasificadas como rurales\n",
    "upls_rurales = upls[upls['VOCACION'].isin(['Rural'])]\n",
    "\n",
    "#Excluir las UPLs de Sumapáz y de Cuenta del Tunjuelo para mejor visualización\n",
    "bta_compacta = upls[~upls['CODIGO_UPL'].isin(['UPL01','UPL02'])]\n"
   ]
  },
  {
   "cell_type": "code",
   "execution_count": 15,
   "id": "034daa90-1258-491b-9476-2c99588f0313",
   "metadata": {},
   "outputs": [],
   "source": [
    "#Crear un área de interés\n",
    "aoi = upls_rurales[upls_rurales['CODIGO_UPL'] == 'UPL06']"
   ]
  },
  {
   "cell_type": "code",
   "execution_count": 32,
   "id": "6538bf2b-fea1-414b-ac26-f7f5c001896a",
   "metadata": {},
   "outputs": [
    {
     "data": {
      "text/plain": [
       "<Axes: >"
      ]
     },
     "execution_count": 32,
     "metadata": {},
     "output_type": "execute_result"
    },
    {
     "data": {
      "image/png": "[encoded data removed]",
      "text/plain": [
       "<Figure size 640x480 with 1 Axes>"
      ]
     },
     "metadata": {},
     "output_type": "display_data"
    }
   ],
   "source": [
    "aoi.plot()"
   ]
  },
  {
   "cell_type": "markdown",
   "id": "cb59cc37-7117-41dd-8189-a91bfac7be6d",
   "metadata": {},
   "source": [
    "### Cálculo de NVDI\n",
    "El cálculo del NVDI lo hacemos con base en este Tutorial de Planet:\n",
    "- https://developers.planet.com/docs/planetschool/calculate-an-ndvi-in-python/?utm_source=google&utm_medium=paid-search&gad=1&gclid=CjwKCAjw6p-oBhAYEiwAgg2Pgnhzy0eAFD2MZSrSbYX7Q_i_ZDXBIL5AomP3D60wIud-_EHnZri4UxoCY80QAvD_BwE"
   ]
  },
  {
   "cell_type": "code",
   "execution_count": 16,
   "id": "3da3c2ad-a420-444e-9313-243fbd99054b",
   "metadata": {},
   "outputs": [
    {
     "data": {
      "text/plain": [
       "<planet.auth.APIKeyAuth at 0x15814e5a0>"
      ]
     },
     "execution_count": 16,
     "metadata": {},
     "output_type": "execute_result"
    }
   ],
   "source": [
    "#Autenticación\n",
    "planet.Auth.from_login(PLANET_USER, PLANET_PASS)"
   ]
  },
  {
   "cell_type": "code",
   "execution_count": 17,
   "id": "855ca35b-c211-4f92-8f8a-3e34bade1ad6",
   "metadata": {},
   "outputs": [],
   "source": [
    "API_KEY = PLANET_API_KEY"
   ]
  },
  {
   "cell_type": "code",
   "execution_count": 18,
   "id": "724bb1ec-a112-4e44-bca0-9be5de4d03fd",
   "metadata": {},
   "outputs": [],
   "source": [
    "#setup session\n",
    "session = requests.Session()\n",
    "\n",
    "#authenticate\n",
    "session.auth = (PLANET_API_KEY, \"\")"
   ]
  },
  {
   "cell_type": "code",
   "execution_count": 19,
   "id": "02b15a22-cbfa-4aa2-9728-b84a02cd812d",
   "metadata": {},
   "outputs": [],
   "source": [
    "#Nombres de los mosaicos de Planet\n",
    "mosaicos_path = os.path.join(data_folder, 'planet/planet_mosaics.xlsx')\n",
    "#Import Excel with mosaic names\n",
    "df2 = pd.read_excel(mosaicos_path)"
   ]
  },
  {
   "cell_type": "markdown",
   "id": "0bd1f6ee-a8a3-4817-a7d2-587e56dd03a9",
   "metadata": {},
   "source": [
    "### Descarga de las imágenes de Planet"
   ]
  },
  {
   "cell_type": "code",
   "execution_count": 20,
   "id": "4e9b6257-08e0-4239-854f-ab7fb5fabd6d",
   "metadata": {},
   "outputs": [],
   "source": [
    "#Parámetros\n",
    "row = df2.loc[0]"
   ]
  },
  {
   "cell_type": "code",
   "execution_count": 21,
   "id": "5c6d77da-79fd-449e-97ae-7919c0b61beb",
   "metadata": {},
   "outputs": [],
   "source": [
    "asset_name = row['asset_name']\n",
    "year = row['year']\n",
    "month = row['month']\n",
    "save_dir = os.path.join(data_folder, 'planet/imagenes_temporal/')\n",
    "file_name = f'{year}_{month}'\n",
    "crs = aoi.crs"
   ]
  },
  {
   "cell_type": "code",
   "execution_count": 22,
   "id": "59901248-b301-4166-915d-8d85d8095a1a",
   "metadata": {},
   "outputs": [
    {
     "data": {
      "text/plain": [
       "'/Users/Daniel/Library/CloudStorage/OneDrive-VestigiumMétodosMixtosAplicadosSAS/geoinfo/Colombia/Bogotá/bosques_bogota/planet/imagenes_temporal/2015_12/2015_12_2015-12_.tiff'"
      ]
     },
     "execution_count": 22,
     "metadata": {},
     "output_type": "execute_result"
    }
   ],
   "source": [
    "#Esta función descarga el archivo tiff the planet\n",
    "pf.download_planet_images(asset_name, \n",
    "                       aoi, \n",
    "                       save_dir, \n",
    "                       file_name, \n",
    "                       crs, \n",
    "                       session)"
   ]
  },
  {
   "cell_type": "markdown",
   "id": "b26c3aa7-8f7d-4661-b732-00ec2401045f",
   "metadata": {},
   "source": [
    "## Creación de imágenes visibles en png"
   ]
  },
  {
   "cell_type": "code",
   "execution_count": 23,
   "id": "d85428db-82f9-477b-879e-fcbc79f39050",
   "metadata": {},
   "outputs": [],
   "source": [
    "def normalize_band(band, lower_percentile=2, upper_percentile=98):\n",
    "    \"\"\"\n",
    "    Normalize a single band to a byte (0-255) scale using percentiles.\n",
    "    \"\"\"\n",
    "    min_val = np.percentile(band, lower_percentile)\n",
    "    max_val = np.percentile(band, upper_percentile)\n",
    "    \n",
    "    band_normalized = (band - min_val) / (max_val - min_val)\n",
    "    band_normalized = np.clip(band_normalized, 0, 1)  # ensure all values are between 0 and 1\n",
    "    return (band_normalized * 255).astype(np.uint8)\n",
    "\n",
    "\n",
    "def tif_to_png(tif_path, png_path):\n",
    "    \"\"\"\n",
    "    Converts a Planet .tif file to a visible PNG image.\n",
    "    \n",
    "    Parameters:\n",
    "    - tif_path (str): Path to the input .tif file.\n",
    "    - png_path (str): Path to save the output PNG image.\n",
    "    \"\"\"\n",
    "    \n",
    "    with rasterio.open(tif_path) as src:\n",
    "        # Assuming the image is a standard 4-band PlanetScope image (BGRN)\n",
    "        blue = normalize_band(src.read(1))\n",
    "        green = normalize_band(src.read(2))\n",
    "        red = normalize_band(src.read(3))\n",
    "    \n",
    "    # Stack RGB bands\n",
    "    rgb = np.stack((red, green, blue), axis=-1)\n",
    "    \n",
    "    # Use imageio library to save the png\n",
    "    import imageio\n",
    "    imageio.imsave(png_path, rgb)\n",
    "    \n",
    "    #print(f\"Saved visible PNG image to {png_path}\")"
   ]
  },
  {
   "cell_type": "code",
   "execution_count": 28,
   "id": "24376d36-29bd-4cc9-a60c-bc080862f7cd",
   "metadata": {},
   "outputs": [],
   "source": [
    "#Convertir el .tiff en una imágen visible\n",
    "tif_to_png('/Users/Daniel/Library/CloudStorage/OneDrive-VestigiumMétodosMixtosAplicadosSAS/geoinfo/Colombia/Bogotá/bosques_bogota/planet/imagenes_temporal/2015_12/2015_12_2015-12_.tiff', '/Users/Daniel/Library/CloudStorage/OneDrive-VestigiumMétodosMixtosAplicadosSAS/geoinfo/Colombia/Bogotá/bosques_bogota/planet/imagenes_temporal/2015_12/2015_12_2015-12_.png')"
   ]
  },
  {
   "cell_type": "markdown",
   "id": "123ae797-5a21-4648-93f5-d884a7d46d01",
   "metadata": {},
   "source": [
    "## Crop images "
   ]
  },
  {
   "cell_type": "code",
   "execution_count": 136,
   "id": "e89d13f6-a417-49f9-ad0e-d07565e8c8f7",
   "metadata": {},
   "outputs": [],
   "source": [
    "def crop_rasters_to_gdf(gdf, raster_path_col, output_dir, cropped_raster_path):\n",
    "    \"\"\"\n",
    "    Function to crop rasters based on bounding box of geometries in GeoDataFrame.\n",
    "    \"\"\"\n",
    "    # Ensure the output directory exists\n",
    "    if not os.path.exists(output_dir):\n",
    "        os.makedirs(output_dir)\n",
    "\n",
    "    def crop_raster(row):\n",
    "        raster_path = row[raster_path_col]\n",
    "        with rasterio.open(raster_path) as src:\n",
    "\n",
    "            # Ensure that the raster and geometry have the same CRS\n",
    "            geom = row['geometry']\n",
    "            if gdf.crs != src.crs:\n",
    "                geom = gpd.GeoSeries([geom], crs=gdf.crs).to_crs(src.crs).iloc[0]\n",
    "            \n",
    "            # Check for intersection between raster bounds and geometry bounds\n",
    "            left, bottom, right, top = src.bounds\n",
    "            raster_bbox = box(left, bottom, right, top)\n",
    "            if not raster_bbox.intersects(geom):\n",
    "                print(f\"Warning: Geometry does not overlap with raster {raster_path}\")\n",
    "                return None\n",
    "            \n",
    "            # Crop the raster\n",
    "            out_image, out_transform = mask(src, [geom], crop=True)\n",
    "            out_meta = src.meta.copy()\n",
    "            \n",
    "            # Update metadata\n",
    "            out_meta.update({\"driver\": \"GTiff\",\n",
    "                             \"height\": out_image.shape[1],\n",
    "                             \"width\": out_image.shape[2],\n",
    "                             \"transform\": out_transform})\n",
    "\n",
    "            # Construct output raster path\n",
    "            base_name = os.path.basename(raster_path)\n",
    "            cropped_path = os.path.join(output_dir, f\"cropped_{base_name}\")\n",
    "            \n",
    "            # Write the cropped raster to disk\n",
    "            with rasterio.open(cropped_path, \"w\", **out_meta) as dest:\n",
    "                dest.write(out_image)\n",
    "            \n",
    "            return cropped_path\n",
    "\n",
    "    # Apply the crop function to each row in the GeoDataFrame\n",
    "    gdf[cropped_raster_path] = gdf.apply(crop_raster, axis=1)\n",
    "\n",
    "    return gdf"
   ]
  },
  {
   "cell_type": "code",
   "execution_count": 140,
   "id": "06220a4d-c53f-40de-8c8f-e8ef66184c64",
   "metadata": {},
   "outputs": [],
   "source": [
    "gdf = crop_rasters_to_gdf(gdf, 'archivo_inicio', 'MMC - General - FIDA/ndvi/crooped', 'archivo_inicio_cropped')"
   ]
  }
 ],
 "metadata": {
  "kernelspec": {
   "display_name": "Python 3 (ipykernel)",
   "language": "python",
   "name": "python3"
  },
  "language_info": {
   "codemirror_mode": {
    "name": "ipython",
    "version": 3
   },
   "file_extension": ".py",
   "mimetype": "text/x-python",
   "name": "python",
   "nbconvert_exporter": "python",
   "pygments_lexer": "ipython3",
   "version": "3.12.6"
  }
 },
 "nbformat": 4,
 "nbformat_minor": 5
}
